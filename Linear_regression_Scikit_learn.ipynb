{
 "cells": [
  {
   "cell_type": "code",
   "execution_count": 1,
   "id": "642d561c-9461-47b2-9bb8-18ced85ec530",
   "metadata": {},
   "outputs": [
    {
     "name": "stdout",
     "output_type": "stream",
     "text": [
      "<class 'pandas.core.frame.DataFrame'>\n",
      "RangeIndex: 9 entries, 0 to 8\n",
      "Data columns (total 2 columns):\n",
      " #   Column      Non-Null Count  Dtype\n",
      "---  ------      --------------  -----\n",
      " 0   hours       9 non-null      int64\n",
      " 1   exam_marks  9 non-null      int64\n",
      "dtypes: int64(2)\n",
      "memory usage: 276.0 bytes\n"
     ]
    },
    {
     "name": "stdin",
     "output_type": "stream",
     "text": [
      "Enter the number of hours you study : 5.5\n"
     ]
    },
    {
     "name": "stdout",
     "output_type": "stream",
     "text": [
      "Predicted exam score is: 67.50\n"
     ]
    },
    {
     "name": "stderr",
     "output_type": "stream",
     "text": [
      "C:\\Users\\Jamal\\anaconda3\\Lib\\site-packages\\sklearn\\base.py:439: UserWarning: X does not have valid feature names, but LinearRegression was fitted with feature names\n",
      "  warnings.warn(\n"
     ]
    }
   ],
   "source": [
    "import numpy as np\n",
    "import pandas as pd\n",
    "from sklearn.model_selection import train_test_split\n",
    "from sklearn.linear_model import LinearRegression\n",
    "\n",
    "data={'hours':[2,3,4,5,6,7,8,9,10],'exam_marks':[50,55,60,65,68,75,80,88,93]}\n",
    "df=pd.DataFrame(data)\n",
    "\n",
    "df.describe()\n",
    "\n",
    "df.info()\n",
    "\n",
    "x=df[['hours']]\n",
    "y=df[['exam_marks']]\n",
    "\n",
    "x_train,x_test,y_train,y_test=train_test_split(x,y,test_size=0.2,random_state=42)\n",
    "#random_state=Setting a specific integer value for random_state ensures that the random processes yield the same results each time you run your code. This is useful for debugging and sharing results with others.\n",
    "\n",
    "# Working on the linear model\n",
    "\n",
    "model=LinearRegression()\n",
    "\n",
    "\n",
    "\n",
    "model.fit(x_train,y_train)\n",
    "\n",
    "#user_input testing\n",
    "user_input=float(input(\"Enter the number of hours you study :\"))\n",
    "\n",
    "predicted_score=model.predict([[user_input]])\n",
    "\n",
    "print(f\"Predicted exam score is: {predicted_score.item():.2f}\")\n",
    "\n"
   ]
  },
  {
   "cell_type": "code",
   "execution_count": null,
   "id": "cdfe6e58-aa54-426f-bed1-830aaf204609",
   "metadata": {},
   "outputs": [],
   "source": []
  }
 ],
 "metadata": {
  "kernelspec": {
   "display_name": "Python 3 (ipykernel)",
   "language": "python",
   "name": "python3"
  },
  "language_info": {
   "codemirror_mode": {
    "name": "ipython",
    "version": 3
   },
   "file_extension": ".py",
   "mimetype": "text/x-python",
   "name": "python",
   "nbconvert_exporter": "python",
   "pygments_lexer": "ipython3",
   "version": "3.11.8"
  }
 },
 "nbformat": 4,
 "nbformat_minor": 5
}
